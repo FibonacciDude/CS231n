{
 "cells": [
  {
   "cell_type": "markdown",
   "metadata": {},
   "source": [
    "# Fully-Connected Neural Nets\n",
    "In the previous homework you implemented a fully-connected two-layer neural network on CIFAR-10. The implementation was simple but not very modular since the loss and gradient were computed in a single monolithic function. This is manageable for a simple two-layer network, but would become impractical as we move to bigger models. Ideally we want to build networks using a more modular design so that we can implement different layer types in isolation and then snap them together into models with different architectures.\n",
    "\n",
    "In this exercise we will implement fully-connected networks using a more modular approach. For each layer we will implement a `forward` and a `backward` function. The `forward` function will receive inputs, weights, and other parameters and will return both an output and a `cache` object storing data needed for the backward pass, like this:\n",
    "\n",
    "```python\n",
    "def layer_forward(x, w):\n",
    "  \"\"\" Receive inputs x and weights w \"\"\"\n",
    "  # Do some computations ...\n",
    "  z = # ... some intermediate value\n",
    "  # Do some more computations ...\n",
    "  out = # the output\n",
    "   \n",
    "  cache = (x, w, z, out) # Values we need to compute gradients\n",
    "   \n",
    "  return out, cache\n",
    "```\n",
    "\n",
    "The backward pass will receive upstream derivatives and the `cache` object, and will return gradients with respect to the inputs and weights, like this:\n",
    "\n",
    "```python\n",
    "def layer_backward(dout, cache):\n",
    "  \"\"\"\n",
    "  Receive derivative of loss with respect to outputs and cache,\n",
    "  and compute derivative with respect to inputs.\n",
    "  \"\"\"\n",
    "  # Unpack cache values\n",
    "  x, w, z, out = cache\n",
    "  \n",
    "  # Use values in cache to compute derivatives\n",
    "  dx = # Derivative of loss with respect to x\n",
    "  dw = # Derivative of loss with respect to w\n",
    "  \n",
    "  return dx, dw\n",
    "```\n",
    "\n",
    "After implementing a bunch of layers this way, we will be able to easily combine them to build classifiers with different architectures.\n",
    "\n",
    "In addition to implementing fully-connected networks of arbitrary depth, we will also explore different update rules for optimization, and introduce Dropout as a regularizer and Batch Normalization as a tool to more efficiently optimize deep networks.\n",
    "  "
   ]
  },
  {
   "cell_type": "code",
   "execution_count": 2,
   "metadata": {},
   "outputs": [],
   "source": [
    "# As usual, a bit of setup\n",
    "\n",
    "import time\n",
    "import numpy as np\n",
    "import matplotlib.pyplot as plt\n",
    "from cs231n.classifiers.fc_net import *\n",
    "from cs231n.data_utils import get_CIFAR10_data\n",
    "from cs231n.gradient_check import eval_numerical_gradient, eval_numerical_gradient_array\n",
    "from cs231n.solver import Solver\n",
    "\n",
    "%matplotlib inline\n",
    "plt.rcParams['figure.figsize'] = (10.0, 8.0) # set default size of plots\n",
    "plt.rcParams['image.interpolation'] = 'nearest'\n",
    "plt.rcParams['image.cmap'] = 'gray'\n",
    "\n",
    "# for auto-reloading external modules\n",
    "# see http://stackoverflow.com/questions/1907993/autoreload-of-modules-in-ipython\n",
    "%load_ext autoreload\n",
    "%autoreload 2\n",
    "\n",
    "def rel_error(x, y):\n",
    "  \"\"\" returns relative error \"\"\"\n",
    "  return np.max(np.abs(x - y) / (np.maximum(1e-8, np.abs(x) + np.abs(y))))"
   ]
  },
  {
   "cell_type": "code",
   "execution_count": 3,
   "metadata": {},
   "outputs": [
    {
     "name": "stdout",
     "output_type": "stream",
     "text": [
      "X_train:  (49000, 3, 32, 32)\n",
      "y_train:  (49000,)\n",
      "X_val:  (1000, 3, 32, 32)\n",
      "y_val:  (1000,)\n",
      "X_test:  (1000, 3, 32, 32)\n",
      "y_test:  (1000,)\n"
     ]
    }
   ],
   "source": [
    "# Load the (preprocessed) CIFAR10 data.\n",
    "\n",
    "data = get_CIFAR10_data()\n",
    "for k, v in data.items():\n",
    "  print ('%s: ' % k, v.shape)"
   ]
  },
  {
   "cell_type": "markdown",
   "metadata": {},
   "source": [
    "# Affine layer: foward\n",
    "Open the file `cs231n/layers.py` and implement the `affine_forward` function.\n",
    "\n",
    "Once you are done you can test your implementaion by running the following:"
   ]
  },
  {
   "cell_type": "code",
   "execution_count": null,
   "metadata": {},
   "outputs": [],
   "source": [
    "# Test the affine_forward function\n",
    "\n",
    "num_inputs = 2\n",
    "input_shape = (4, 5, 6)\n",
    "output_dim = 3\n",
    "\n",
    "input_size = num_inputs * np.prod(input_shape)\n",
    "weight_size = output_dim * np.prod(input_shape)\n",
    "\n",
    "x = np.linspace(-0.1, 0.5, num=input_size).reshape(num_inputs, *input_shape)\n",
    "w = np.linspace(-0.2, 0.3, num=weight_size).reshape(np.prod(input_shape), output_dim)\n",
    "b = np.linspace(-0.3, 0.1, num=output_dim)\n",
    "\n",
    "out, _ = affine_forward(x, w, b)\n",
    "correct_out = np.array([[ 1.49834967,  1.70660132,  1.91485297],\n",
    "                        [ 3.25553199,  3.5141327,   3.77273342]])\n",
    "\n",
    "# Compare your output with ours. The error should be around 1e-9.\n",
    "print ('Testing affine_forward function:')\n",
    "print ('difference: ', rel_error(out, correct_out))"
   ]
  },
  {
   "cell_type": "markdown",
   "metadata": {},
   "source": [
    "# Affine layer: backward\n",
    "Now implement the `affine_backward` function and test your implementation using numeric gradient checking."
   ]
  },
  {
   "cell_type": "code",
   "execution_count": null,
   "metadata": {},
   "outputs": [],
   "source": [
    "# Test the affine_backward function\n",
    "\n",
    "x = np.random.randn(10, 2, 3)\n",
    "w = np.random.randn(6, 5)\n",
    "b = np.random.randn(5)\n",
    "dout = np.random.randn(10, 5)\n",
    "\n",
    "dx_num = eval_numerical_gradient_array(lambda x: affine_forward(x, w, b)[0], x, dout)\n",
    "dw_num = eval_numerical_gradient_array(lambda w: affine_forward(x, w, b)[0], w, dout)\n",
    "db_num = eval_numerical_gradient_array(lambda b: affine_forward(x, w, b)[0], b, dout)\n",
    "\n",
    "_, cache = affine_forward(x, w, b)\n",
    "dx, dw, db = affine_backward(dout, cache)\n",
    "\n",
    "# The error should be around 1e-10\n",
    "print ('Testing affine_backward function:')\n",
    "print ('dx error: ', rel_error(dx_num, dx))\n",
    "print ('dw error: ', rel_error(dw_num, dw))\n",
    "print ('db error: ', rel_error(db_num, db))"
   ]
  },
  {
   "cell_type": "markdown",
   "metadata": {},
   "source": [
    "# ReLU layer: forward\n",
    "Implement the forward pass for the ReLU activation function in the `relu_forward` function and test your implementation using the following:"
   ]
  },
  {
   "cell_type": "code",
   "execution_count": null,
   "metadata": {},
   "outputs": [],
   "source": [
    "# Test the relu_forward function\n",
    "\n",
    "x = np.linspace(-0.5, 0.5, num=12).reshape(3, 4)\n",
    "\n",
    "out, _ = relu_forward(x)\n",
    "correct_out = np.array([[ 0.,          0.,          0.,          0.,        ],\n",
    "                        [ 0.,          0.,          0.04545455,  0.13636364,],\n",
    "                        [ 0.22727273,  0.31818182,  0.40909091,  0.5,       ]])\n",
    "\n",
    "# Compare your output with ours. The error should be around 1e-8\n",
    "print ('Testing relu_forward function:')\n",
    "print ('difference: ', rel_error(out, correct_out))"
   ]
  },
  {
   "cell_type": "markdown",
   "metadata": {},
   "source": [
    "# ReLU layer: backward\n",
    "Now implement the backward pass for the ReLU activation function in the `relu_backward` function and test your implementation using numeric gradient checking:"
   ]
  },
  {
   "cell_type": "code",
   "execution_count": null,
   "metadata": {},
   "outputs": [],
   "source": [
    "x = np.random.randn(10, 10)\n",
    "dout = np.random.randn(*x.shape)\n",
    "\n",
    "dx_num = eval_numerical_gradient_array(lambda x: relu_forward(x)[0], x, dout)\n",
    "\n",
    "_, cache = relu_forward(x)\n",
    "dx = relu_backward(dout, cache)\n",
    "print(dx.shape)\n",
    "print(dout.shape)\n",
    "# The error should be around 1e-12\n",
    "print ('Testing relu_backward function:')\n",
    "print ('dx error: ', rel_error(dx_num, dx))"
   ]
  },
  {
   "cell_type": "markdown",
   "metadata": {},
   "source": [
    "# \"Sandwich\" layers\n",
    "There are some common patterns of layers that are frequently used in neural nets. For example, affine layers are frequently followed by a ReLU nonlinearity. To make these common patterns easy, we define several convenience layers in the file `cs231n/layer_utils.py`.\n",
    "\n",
    "For now take a look at the `affine_relu_forward` and `affine_relu_backward` functions, and run the following to numerically gradient check the backward pass:"
   ]
  },
  {
   "cell_type": "code",
   "execution_count": null,
   "metadata": {},
   "outputs": [],
   "source": [
    "from cs231n.layer_utils import affine_relu_forward, affine_relu_backward\n",
    "\n",
    "x = np.random.randn(2, 3, 4)\n",
    "w = np.random.randn(12, 10)\n",
    "b = np.random.randn(10)\n",
    "dout = np.random.randn(2, 10)\n",
    "\n",
    "out, cache = affine_relu_forward(x, w, b)\n",
    "dx, dw, db = affine_relu_backward(dout, cache)\n",
    "\n",
    "dx_num = eval_numerical_gradient_array(lambda x: affine_relu_forward(x, w, b)[0], x, dout)\n",
    "dw_num = eval_numerical_gradient_array(lambda w: affine_relu_forward(x, w, b)[0], w, dout)\n",
    "db_num = eval_numerical_gradient_array(lambda b: affine_relu_forward(x, w, b)[0], b, dout)\n",
    "\n",
    "print ('Testing affine_relu_forward:')\n",
    "print ('db error: ', rel_error(db_num, db))\n",
    "print ('dx error: ', rel_error(dx_num, dx))\n",
    "print ('dw error: ', rel_error(dw_num, dw))"
   ]
  },
  {
   "cell_type": "markdown",
   "metadata": {},
   "source": [
    "# Loss layers: Softmax and SVM\n",
    "You implemented these loss functions in the last assignment, so we'll give them to you for free here. You should still make sure you understand how they work by looking at the implementations in `cs231n/layers.py`.\n",
    "\n",
    "You can make sure that the implementations are correct by running the following:"
   ]
  },
  {
   "cell_type": "code",
   "execution_count": null,
   "metadata": {},
   "outputs": [],
   "source": [
    "from time import time\n",
    "from cs231n.layers import softmax_loss_"
   ]
  },
  {
   "cell_type": "code",
   "execution_count": null,
   "metadata": {
    "scrolled": true
   },
   "outputs": [],
   "source": [
    "num_classes, num_inputs = 10, 50\n",
    "x = 0.001 * np.random.randn(num_inputs, num_classes)\n",
    "y = np.random.randint(num_classes, size=num_inputs)\n",
    "\n",
    "dx_num = eval_numerical_gradient(lambda x: svm_loss(x, y)[0], x, verbose=False)\n",
    "loss, dx = svm_loss(x, y)\n",
    "\n",
    "# Test svm_loss function. Loss should be around 9 and dx error should be 1e-9\n",
    "print ('Testing svm_loss:')\n",
    "print ('loss: ', loss)\n",
    "print ('dx error: ', rel_error(dx_num, dx))\n",
    "\n",
    "dx_num = eval_numerical_gradient(lambda x: softmax_loss(x, y)[0], x, verbose=False)\n",
    "\n",
    "tot = 10000\n",
    "\n",
    "t = time()\n",
    "for i in range(tot):\n",
    "    loss, dx = softmax_loss(x, y)\n",
    "    \n",
    "stop= (time()- t)/tot\n",
    "t_ = time()\n",
    "for i in range(tot):\n",
    "    loss, dx = softmax_loss_(x, y)\n",
    "stop_ = (time() - t_) / tot\n",
    "diff = stop_ - stop\n",
    "print(stop_)\n",
    "print(stop)\n",
    "print(diff)\n",
    "\n",
    "# Test softmax_loss function. Loss should be 2.3 and dx error should be 1e-8\n",
    "print ('\\nTesting softmax_loss:')\n",
    "print ('loss: ', loss)\n",
    "print ('dx error: ', rel_error(dx_num, dx))"
   ]
  },
  {
   "cell_type": "markdown",
   "metadata": {},
   "source": [
    "# Two-layer network\n",
    "In the previous assignment you implemented a two-layer neural network in a single monolithic class. Now that you have implemented modular versions of the necessary layers, you will reimplement the two layer network using these modular implementations.\n",
    "\n",
    "Open the file `cs231n/classifiers/fc_net.py` and complete the implementation of the `TwoLayerNet` class. This class will serve as a model for the other networks you will implement in this assignment, so read through it to make sure you understand the API. You can run the cell below to test your implementation."
   ]
  },
  {
   "cell_type": "code",
   "execution_count": null,
   "metadata": {
    "scrolled": true
   },
   "outputs": [],
   "source": [
    "N, D, H, C = 3, 5, 50, 7\n",
    "X = np.random.randn(N, D)\n",
    "y = np.random.randint(C, size=N)\n",
    "\n",
    "std = 1e-2\n",
    "model = TwoLayerNet(input_dim=D, hidden_dim=H, num_classes=C, weight_scale=std)\n",
    "\n",
    "print ('Testing initialization ... ')\n",
    "W1_std = abs(model.params['W1'].std() - std)\n",
    "b1 = model.params['b1']\n",
    "W2_std = abs(model.params['W2'].std() - std)\n",
    "b2 = model.params['b2']\n",
    "assert W1_std < std / 10, 'First layer weights do not seem right'\n",
    "assert np.all(b1 == 0), 'First layer biases do not seem right'\n",
    "assert W2_std < std / 10, 'Second layer weights do not seem right'\n",
    "assert np.all(b2 == 0), 'Second layer biases do not seem right'\n",
    "\n",
    "print ('Testing test-time forward pass ... ')\n",
    "model.params['W1'] = np.linspace(-0.7, 0.3, num=D*H).reshape(D, H)\n",
    "model.params['b1'] = np.linspace(-0.1, 0.9, num=H)\n",
    "model.params['W2'] = np.linspace(-0.3, 0.4, num=H*C).reshape(H, C)\n",
    "model.params['b2'] = np.linspace(-0.9, 0.1, num=C)\n",
    "X = np.linspace(-5.5, 4.5, num=N*D).reshape(D, N).T\n",
    "scores = model.loss(X)\n",
    "correct_scores = np.asarray(\n",
    "  [[11.53165108,  12.2917344,   13.05181771,  13.81190102,  14.57198434, 15.33206765,  16.09215096],\n",
    "   [12.05769098,  12.74614105,  13.43459113,  14.1230412,   14.81149128, 15.49994135,  16.18839143],\n",
    "   [12.58373087,  13.20054771,  13.81736455,  14.43418138,  15.05099822, 15.66781506,  16.2846319 ]])\n",
    "scores_diff = np.abs(scores - correct_scores).sum()\n",
    "assert scores_diff < 1e-6, 'Problem with test-time forward pass'\n",
    "\n",
    "print ('Testing training loss (no regularization)')\n",
    "y = np.asarray([0, 5, 1])\n",
    "loss, grads = model.loss(X, y)\n",
    "correct_loss = 3.4702243556\n",
    "assert abs(loss - correct_loss) < 1e-10, 'Problem with training-time loss'\n",
    "\n",
    "model.reg = 1.0\n",
    "loss, grads = model.loss(X, y)\n",
    "correct_loss = 26.5948426952\n",
    "assert abs(loss - correct_loss) < 1e-10, 'Problem with regularization loss'\n",
    "\n",
    "for reg in [0.0, 0.7]:\n",
    "  print ('Running numeric gradient check with reg = ', reg)\n",
    "  model.reg = reg\n",
    "  loss, grads = model.loss(X, y)\n",
    "\n",
    "  for name in sorted(grads):\n",
    "    f = lambda _: model.loss(X, y)[0]\n",
    "    grad_num = eval_numerical_gradient(f, model.params[name], verbose=False)\n",
    "    print ('%s relative error: %.2e' % (name, rel_error(grad_num, grads[name])))"
   ]
  },
  {
   "cell_type": "markdown",
   "metadata": {},
   "source": [
    "# Solver\n",
    "In the previous assignment, the logic for training models was coupled to the models themselves. Following a more modular design, for this assignment we have split the logic for training models into a separate class.\n",
    "\n",
    "Open the file `cs231n/solver.py` and read through it to familiarize yourself with the API. After doing so, use a `Solver` instance to train a `TwoLayerNet` that achieves at least `50%` accuracy on the validation set."
   ]
  },
  {
   "cell_type": "code",
   "execution_count": null,
   "metadata": {},
   "outputs": [],
   "source": [
    "learning_rates = 10**np.random.uniform(-9, -2, size = 10)\n",
    "regularization_strengths = 10**np.random.uniform(-5, 6, size = 10)\n",
    "hd = 100\n",
    "##############################################################################\n",
    "# TODO: Use a Solver instance to train a TwoLayerNet that achieves at least  #\n",
    "# 50% accuracy on the validation set.                                        #\n",
    "##############################################################################\n",
    "best_acc = -1\n",
    "best_solver = None\n",
    "results = {}\n",
    "\n",
    "for lr in learning_rates:\n",
    "    for rs in regularization_strengths:\n",
    "        model = TwoLayerNet(input_dim=3*32*32, hidden_dim=hd, num_classes=10,\n",
    "               weight_scale=1e-3, reg = rs)\n",
    "        solver = Solver(model, data,\n",
    "                  update_rule='sgd',\n",
    "                  optim_config={\n",
    "                    'learning_rate': lr,\n",
    "                  },\n",
    "                  lr_decay=0.95,\n",
    "                  num_epochs=10, batch_size=100,\n",
    "                  print_every=100, verbose = True)\n",
    "        solver.train()\n",
    "        val_acc = solver.best_val_acc\n",
    "        train_acc = solver.check_accuracy(data['X_train'], data['y_train'])\n",
    "        results[(lr, rs)] = (train_acc, val_acc)\n",
    "        if val_acc > best_acc:\n",
    "            best_solver = solver\n",
    "        \n",
    "for hyper in sorted(results):\n",
    "    lr, rs = hyper\n",
    "    train, val = results[hyper]\n",
    "    print('regularization rate of {} and learning rate of {} got {:.2f}%'.format(lr, rs, val))\n",
    "##############################################################################\n",
    "#                             END OF YOUR CODE                               #\n",
    "##############################################################################"
   ]
  },
  {
   "cell_type": "markdown",
   "metadata": {},
   "source": [
    "regularization rate of 0.0003775538885167331 and learning rate of 0.013127966251450664"
   ]
  },
  {
   "cell_type": "markdown",
   "metadata": {},
   "source": [
    "regularization rate of 0.0003775538885167331 and learning rate of 0.013127966251450664"
   ]
  },
  {
   "cell_type": "code",
   "execution_count": null,
   "metadata": {},
   "outputs": [],
   "source": [
    "lr = 0.0003775538885167331\n",
    "rs = 0.013127966251450664\n",
    "model = TwoLayerNet(input_dim=3*32*32, hidden_dim=hd, num_classes=10,\n",
    "       weight_scale=1e-3, reg = rs)\n",
    "solver = Solver(model, data,\n",
    "          update_rule='sgd',\n",
    "          optim_config={\n",
    "            'learning_rate': lr,\n",
    "          },\n",
    "          lr_decay=0.95,\n",
    "          num_epochs=10, batch_size=100,\n",
    "          print_every=100, verbose = True)\n",
    "solver.train()\n",
    "val_acc = solver.best_val_acc\n",
    "train_acc = solver.check_accuracy(data['X_train'], data['y_train'])"
   ]
  },
  {
   "cell_type": "code",
   "execution_count": null,
   "metadata": {},
   "outputs": [],
   "source": [
    "# Run this cell to visualize training loss and train / val accuracy\n",
    "\n",
    "plt.subplot(2, 1, 1)\n",
    "plt.title('Training loss')\n",
    "plt.plot(solver.loss_history, 'o')\n",
    "plt.xlabel('Iteration')\n",
    "\n",
    "plt.subplot(2, 1, 2)\n",
    "plt.title('Accuracy')\n",
    "plt.plot(solver.train_acc_history, '-o', label='train')\n",
    "plt.plot(solver.val_acc_history, '-o', label='val')\n",
    "plt.plot([0.5] * len(solver.val_acc_history), 'k--')\n",
    "plt.xlabel('Epoch')\n",
    "plt.legend(loc='lower right')\n",
    "plt.gcf().set_size_inches(15, 12)\n",
    "plt.show()"
   ]
  },
  {
   "cell_type": "markdown",
   "metadata": {},
   "source": [
    "# Multilayer network\n",
    "Next you will implement a fully-connected network with an arbitrary number of hidden layers.\n",
    "\n",
    "Read through the `FullyConnectedNet` class in the file `cs231n/classifiers/fc_net.py`.\n",
    "\n",
    "Implement the initialization, the forward pass, and the backward pass. For the moment don't worry about implementing dropout or batch normalization; we will add those features soon."
   ]
  },
  {
   "cell_type": "markdown",
   "metadata": {},
   "source": [
    "## Initial loss and gradient check"
   ]
  },
  {
   "cell_type": "markdown",
   "metadata": {},
   "source": [
    "As a sanity check, run the following to check the initial loss and to gradient check the network both with and without regularization. Do the initial losses seem reasonable?\n",
    "\n",
    "For gradient checking, you should expect to see errors around 1e-6 or less."
   ]
  },
  {
   "cell_type": "code",
   "execution_count": null,
   "metadata": {},
   "outputs": [],
   "source": [
    "N, D, H1, H2, H3, H4, C = 2, 15, 20, 20, 20, 30, 10\n",
    "X = np.random.randn(N, D)\n",
    "y = np.random.randint(C, size=(N,))\n",
    "\n",
    "regs = [0, 3.14]\n",
    "for reg in regs:\n",
    "    print('Running check with reg = ', reg)\n",
    "    model = FullyConnectedNet([H1, H2, H3], input_dim=D, num_classes=C,\n",
    "                            reg=reg, weight_scale=5e-2, dtype=np.float64)\n",
    "\n",
    "    loss, grads = model.loss(X, y)\n",
    "    print ('Initial loss: ', loss)\n",
    "\n",
    "    for name in sorted(grads):\n",
    "      f = lambda _: model.loss(X, y)[0]\n",
    "      grad_num = eval_numerical_gradient(f, model.params[name], verbose=False, h=1e-6)\n",
    "      print ('%s relative error: %.2e' % (name, rel_error(grad_num, grads[name])))"
   ]
  },
  {
   "cell_type": "markdown",
   "metadata": {},
   "source": [
    "As another sanity check, make sure you can overfit a small dataset of 50 images. First we will try a three-layer network with 100 units in each hidden layer. You will need to tweak the learning rate and initialization scale, but you should be able to overfit and achieve 100% training accuracy within 20 epochs."
   ]
  },
  {
   "cell_type": "code",
   "execution_count": null,
   "metadata": {
    "scrolled": false
   },
   "outputs": [],
   "source": [
    "# TODO: Use a three-layer Net to overfit 50 training examples.\n",
    "\n",
    "num_train = 50\n",
    "small_data = {\n",
    "  'X_train': data['X_train'][:num_train],\n",
    "  'y_train': data['y_train'][:num_train],\n",
    "  'X_val': data['X_val'],\n",
    "  'y_val': data['y_val'],\n",
    "}\n",
    "\n",
    "best_solver = None\n",
    "best_acc = -1\n",
    "\n",
    "lr_ = 0.012151289139800877 * np.random.uniform(.6, 13, size = 10)\n",
    "ws_ = 0.007489334521205825 * np.random.uniform(.6, 13, size = 5)\n",
    "\n",
    "#weight_scale = 10**np.random.uniform(low = -4, high = -1, size = 5)\n",
    "#weight_scale = [1e-3, 1e-5]\n",
    "#learning_rate = 10**np.random.uniform(low = -5, high = 0, size = 5)\n",
    "#print(weight_scale)\n",
    "#print(learning_rate)\n",
    "\n",
    "for lr in lr_:\n",
    "    for ws in ws_:\n",
    "        model = FullyConnectedNet([100, 100],\n",
    "                      weight_scale=ws, dtype=np.float64)\n",
    "\n",
    "        solver = Solver(model, small_data,\n",
    "                        print_every=10, num_epochs=20, batch_size=25,\n",
    "                        update_rule='sgd',\n",
    "                        optim_config={\n",
    "                          'learning_rate': lr,\n",
    "                        },\n",
    "                        verbose = False\n",
    "                 )\n",
    "        solver.train()\n",
    "        train_acc = solver.check_accuracy(small_data['X_train'], small_data['y_train'])\n",
    "        results[(lr, ws)] = train_acc\n",
    "        print(\"Current: lr {}, ws {}\".format(lr, ws))\n",
    "        if best_acc < train_acc:\n",
    "            best_solver = solver\n",
    "\n",
    "\n",
    "plt.plot(best_solver.loss_history, 'o')\n",
    "plt.title('Training loss history')\n",
    "plt.xlabel('Iteration')\n",
    "plt.ylabel('Training loss')\n",
    "plt.show()"
   ]
  },
  {
   "cell_type": "code",
   "execution_count": null,
   "metadata": {},
   "outputs": [],
   "source": [
    "#print info\n",
    "for hyper in sorted(results):\n",
    "    lr, ws = hyper\n",
    "    acc = results[hyper]\n",
    "    print(\"lr {} ws {} got {}\".format(lr, ws, acc))"
   ]
  },
  {
   "cell_type": "code",
   "execution_count": null,
   "metadata": {},
   "outputs": [],
   "source": [
    "lr = 0.012151289139800877\n",
    "ws = 0.007489334521205825\n",
    "\n",
    "model = FullyConnectedNet([100, 100],\n",
    "              weight_scale=ws, dtype=np.float64)\n",
    "\n",
    "solver = Solver(model, small_data,\n",
    "                print_every=10, num_epochs=20, batch_size=25,\n",
    "                update_rule='sgd',\n",
    "                optim_config={\n",
    "                  'learning_rate': lr,\n",
    "                },\n",
    "                verbose = True\n",
    "         )\n",
    "solver.train()"
   ]
  },
  {
   "cell_type": "code",
   "execution_count": null,
   "metadata": {},
   "outputs": [],
   "source": [
    "\n",
    "plt.plot(best_solver.loss_history, 'o')\n",
    "plt.title('Training loss history')\n",
    "plt.xlabel('Iteration')\n",
    "plt.ylabel('Training loss')\n",
    "plt.show()"
   ]
  },
  {
   "cell_type": "code",
   "execution_count": null,
   "metadata": {},
   "outputs": [],
   "source": [
    "lr 0.012151289139800877 ws 0.0074033665518068075"
   ]
  },
  {
   "cell_type": "code",
   "execution_count": null,
   "metadata": {},
   "outputs": [],
   "source": [
    "best_solver.check_accuracy(small_data['X_train'], small_data['y_train'])"
   ]
  },
  {
   "cell_type": "markdown",
   "metadata": {},
   "source": [
    "Now try to use a five-layer network with 100 units on each layer to overfit 50 training examples. Again you will have to adjust the learning rate and weight initialization, but you should be able to achieve 100% training accuracy within 20 epochs."
   ]
  },
  {
   "cell_type": "code",
   "execution_count": null,
   "metadata": {},
   "outputs": [],
   "source": [
    "# TODO: Use a five-layer Net to overfit 50 training examples.\n",
    "\n",
    "num_train = 50\n",
    "small_data = {\n",
    "  'X_train': data['X_train'][:num_train],\n",
    "  'y_train': data['y_train'][:num_train],\n",
    "  'X_val': data['X_val'],\n",
    "  'y_val': data['y_val'],\n",
    "}\n",
    "train_acc = - 1\n",
    "best_solver = None\n",
    "#lr 0.0006502664124552049 ws 0.05899948583291211\n",
    "#lr_ = 10**np.random.uniform(-5, -1, size = 6)\n",
    "#ws_ = 10**np.random.uniform(-5, -1, size = 6)\n",
    "lr_ = np.array([0.0003775538885167331*2.4] + 0.0003775538885167331*2.4*np.random.uniform(low = .8, high = 1.3, size = 10))\n",
    "ws_ = [0.06198633970231841*.84] + 0.06198633970231841*.84*np.random.uniform(low = .8, high = 1.3, size = 10)\n",
    "#lr_ = [0.0003775538885167331]#*np.random.uniform(.7, 2.5, size = 6)\n",
    "#ws_ = [0.06198633970231841]#*np.random.uniform(.5, 2.5, size = 6)\n",
    "repeat = 3\n",
    "results = {}\n",
    "\n",
    "for lr in lr_:\n",
    "    for ws in ws_:\n",
    "        rep = []\n",
    "        best_model = None\n",
    "        best_model_acc = -1\n",
    "        for i in range(repeat):\n",
    "            model = FullyConnectedNet([100, 100, 100, 100],\n",
    "                weight_scale=ws, dtype=np.float64)\n",
    "            solver = Solver(model, small_data,\n",
    "                print_every=10, num_epochs=20, batch_size=25,\n",
    "                update_rule='sgd',\n",
    "                optim_config={\n",
    "                  'learning_rate': lr,\n",
    "                },\n",
    "                verbose = False\n",
    "         )\n",
    "            solver.train()\n",
    "            train_acc = solver.check_accuracy(small_data['X_train'], small_data['y_train'])\n",
    "            if train_acc > best_model_acc:\n",
    "                best_model = model\n",
    "                best_model_acc = train_acc\n",
    "            rep.append(train_acc)\n",
    "        print(\"Model norm is {}\".format(best_model.get_fro()))\n",
    "        results[(lr, ws)] = np.array(rep)\n",
    "        \n",
    "        print(\"Current: lr {} and ws {}. This got {}\".format(lr, ws, rep))\n",
    "        \n",
    "        if train_acc < max(rep):\n",
    "            best_solver = solver\n",
    "            best_acc = train_acc\n",
    "            \n",
    "best_train = -1\n",
    "\n",
    "for hyper in sorted(results):\n",
    "    lr, ws = hyper\n",
    "    print(\"lr {} ws {} got {}\".format(lr, ws, results[hyper]))\n",
    "    if best_train < max(results[hyper]):\n",
    "        best_train = max(results[hyper])\n",
    "\n",
    "print(\"best_train {}\".format(best_train))\n",
    "plt.plot(best_solver.loss_history, 'o')\n",
    "plt.title('Training loss history')\n",
    "plt.xlabel('Iteration')\n",
    "plt.ylabel('Training loss')\n",
    "plt.show()"
   ]
  },
  {
   "cell_type": "markdown",
   "metadata": {},
   "source": [
    "# Inline question: \n",
    "Did you notice anything about the comparative difficulty of training the three-layer net vs training the five layer net?\n",
    "\n",
    "# Answer:\n",
    "Training a 3 layer net is much easier than a 5 layer one. When you train one with more layers, a slight change in the hyperparameters and random weight initialization has a much greater impact (greater variance).\n"
   ]
  },
  {
   "cell_type": "markdown",
   "metadata": {},
   "source": [
    "# Update rules\n",
    "So far we have used vanilla stochastic gradient descent (SGD) as our update rule. More sophisticated update rules can make it easier to train deep networks. We will implement a few of the most commonly used update rules and compare them to vanilla SGD."
   ]
  },
  {
   "cell_type": "markdown",
   "metadata": {},
   "source": [
    "# SGD+Momentum\n",
    "Stochastic gradient descent with momentum is a widely used update rule that tends to make deep networks converge faster than vanilla stochstic gradient descent.\n",
    "\n",
    "Open the file `cs231n/optim.py` and read the documentation at the top of the file to make sure you understand the API. Implement the SGD+momentum update rule in the function `sgd_momentum` and run the following to check your implementation. You should see errors less than 1e-8."
   ]
  },
  {
   "cell_type": "code",
   "execution_count": null,
   "metadata": {},
   "outputs": [],
   "source": [
    "from cs231n.optim import sgd_momentum\n",
    "\n",
    "N, D = 4, 5\n",
    "w = np.linspace(-0.4, 0.6, num=N*D).reshape(N, D)\n",
    "dw = np.linspace(-0.6, 0.4, num=N*D).reshape(N, D)\n",
    "v = np.linspace(0.6, 0.9, num=N*D).reshape(N, D)\n",
    "\n",
    "config = {'learning_rate': 1e-3, 'velocity': v}\n",
    "next_w, _ = sgd_momentum(w, dw, config=config)\n",
    "\n",
    "expected_next_w = np.asarray([\n",
    "  [ 0.1406,      0.20738947,  0.27417895,  0.34096842,  0.40775789],\n",
    "  [ 0.47454737,  0.54133684,  0.60812632,  0.67491579,  0.74170526],\n",
    "  [ 0.80849474,  0.87528421,  0.94207368,  1.00886316,  1.07565263],\n",
    "  [ 1.14244211,  1.20923158,  1.27602105,  1.34281053,  1.4096    ]])\n",
    "expected_velocity = np.asarray([\n",
    "  [ 0.5406,      0.55475789,  0.56891579, 0.58307368,  0.59723158],\n",
    "  [ 0.61138947,  0.62554737,  0.63970526,  0.65386316,  0.66802105],\n",
    "  [ 0.68217895,  0.69633684,  0.71049474,  0.72465263,  0.73881053],\n",
    "  [ 0.75296842,  0.76712632,  0.78128421,  0.79544211,  0.8096    ]])\n",
    "\n",
    "print ('next_w error: ', rel_error(next_w, expected_next_w))\n",
    "print ('velocity error: ', rel_error(expected_velocity, config['velocity']))"
   ]
  },
  {
   "cell_type": "markdown",
   "metadata": {},
   "source": [
    "Once you have done so, run the following to train a six-layer network with both SGD and SGD+momentum. You should see the SGD+momentum update rule converge faster."
   ]
  },
  {
   "cell_type": "code",
   "execution_count": 9,
   "metadata": {
    "scrolled": false
   },
   "outputs": [
    {
     "name": "stdout",
     "output_type": "stream",
     "text": [
      "running with  sgd_momentum\n",
      "(Iteration 1 / 200) loss: 2.435327\n",
      "(Epoch 0 / 5) train acc: 0.122000; val_acc: 0.136000\n",
      "(Iteration 11 / 200) loss: 2.300960\n",
      "(Iteration 21 / 200) loss: 2.251573\n",
      "(Iteration 31 / 200) loss: 2.213101\n",
      "(Epoch 1 / 5) train acc: 0.169000; val_acc: 0.168000\n",
      "(Iteration 41 / 200) loss: 2.214568\n",
      "(Iteration 51 / 200) loss: 2.269993\n",
      "(Iteration 61 / 200) loss: 2.199639\n",
      "(Iteration 71 / 200) loss: 2.189180\n",
      "(Epoch 2 / 5) train acc: 0.234000; val_acc: 0.198000\n",
      "(Iteration 81 / 200) loss: 2.239888\n",
      "(Iteration 91 / 200) loss: 2.148652\n",
      "(Iteration 101 / 200) loss: 2.130374\n",
      "(Iteration 111 / 200) loss: 2.035747\n",
      "(Epoch 3 / 5) train acc: 0.267000; val_acc: 0.211000\n",
      "(Iteration 121 / 200) loss: 2.058363\n",
      "(Iteration 131 / 200) loss: 2.011629\n",
      "(Iteration 141 / 200) loss: 2.206512\n",
      "(Iteration 151 / 200) loss: 2.014739\n",
      "(Epoch 4 / 5) train acc: 0.286000; val_acc: 0.223000\n",
      "(Iteration 161 / 200) loss: 2.174210\n",
      "(Iteration 171 / 200) loss: 2.037229\n",
      "(Iteration 181 / 200) loss: 2.002861\n",
      "(Iteration 191 / 200) loss: 1.964924\n",
      "(Epoch 5 / 5) train acc: 0.318000; val_acc: 0.249000\n",
      "running with  adam\n",
      "(Iteration 1 / 200) loss: 2.383461\n",
      "(Epoch 0 / 5) train acc: 0.140000; val_acc: 0.151000\n",
      "(Iteration 11 / 200) loss: 2.297106\n",
      "(Iteration 21 / 200) loss: 2.243616\n",
      "(Iteration 31 / 200) loss: 2.032330\n",
      "(Epoch 1 / 5) train acc: 0.171000; val_acc: 0.149000\n",
      "(Iteration 41 / 200) loss: 2.164903\n",
      "(Iteration 51 / 200) loss: 2.232088\n",
      "(Iteration 61 / 200) loss: 2.125385\n",
      "(Iteration 71 / 200) loss: 1.987369\n",
      "(Epoch 2 / 5) train acc: 0.202000; val_acc: 0.185000\n",
      "(Iteration 81 / 200) loss: 2.102572\n",
      "(Iteration 91 / 200) loss: 2.107891\n",
      "(Iteration 101 / 200) loss: 2.107096\n",
      "(Iteration 111 / 200) loss: 1.867608\n",
      "(Epoch 3 / 5) train acc: 0.277000; val_acc: 0.201000\n",
      "(Iteration 121 / 200) loss: 1.876246\n",
      "(Iteration 131 / 200) loss: 1.919521\n",
      "(Iteration 141 / 200) loss: 1.979244\n",
      "(Iteration 151 / 200) loss: 1.994372\n",
      "(Epoch 4 / 5) train acc: 0.281000; val_acc: 0.213000\n",
      "(Iteration 161 / 200) loss: 1.982968\n",
      "(Iteration 171 / 200) loss: 2.014139\n",
      "(Iteration 181 / 200) loss: 2.014152\n",
      "(Iteration 191 / 200) loss: 1.878881\n",
      "(Epoch 5 / 5) train acc: 0.282000; val_acc: 0.223000\n"
     ]
    }
   ],
   "source": [
    "num_train = 4000\n",
    "small_data = {\n",
    "  'X_train': data['X_train'][:num_train],\n",
    "  'y_train': data['y_train'][:num_train],\n",
    "  'X_val': data['X_val'],\n",
    "  'y_val': data['y_val'],\n",
    "}\n",
    "\n",
    "solvers = {}\n",
    "\n",
    "for update_rule in ['sgd_momentum', 'adam']:\n",
    "  print ('running with ', update_rule)\n",
    "  model = FullyConnectedNet([100, 100, 100, 100, 100], weight_scale=5e-2)\n",
    "\n",
    "  solver = Solver(model, small_data,\n",
    "                  num_epochs=5, batch_size=100,\n",
    "                  update_rule=update_rule,\n",
    "                  optim_config={\n",
    "                    'learning_rate': 1e-3,\n",
    "                  },\n",
    "                  verbose=True)\n",
    "  solvers[update_rule] = solver\n",
    "  solver.train()\n",
    "  print\n"
   ]
  },
  {
   "cell_type": "code",
   "execution_count": 10,
   "metadata": {},
   "outputs": [
    {
     "name": "stderr",
     "output_type": "stream",
     "text": [
      "<ipython-input-10-c3b9e42bf174>:14: MatplotlibDeprecationWarning: Adding an axes using the same arguments as a previous axes currently reuses the earlier instance.  In a future version, a new instance will always be created and returned.  Meanwhile, this warning can be suppressed, and the future behavior ensured, by passing a unique label to each axes instance.\n",
      "  plt.subplot(3, 1, 1)\n",
      "<ipython-input-10-c3b9e42bf174>:17: MatplotlibDeprecationWarning: Adding an axes using the same arguments as a previous axes currently reuses the earlier instance.  In a future version, a new instance will always be created and returned.  Meanwhile, this warning can be suppressed, and the future behavior ensured, by passing a unique label to each axes instance.\n",
      "  plt.subplot(3, 1, 2)\n",
      "<ipython-input-10-c3b9e42bf174>:20: MatplotlibDeprecationWarning: Adding an axes using the same arguments as a previous axes currently reuses the earlier instance.  In a future version, a new instance will always be created and returned.  Meanwhile, this warning can be suppressed, and the future behavior ensured, by passing a unique label to each axes instance.\n",
      "  plt.subplot(3, 1, 3)\n",
      "<ipython-input-10-c3b9e42bf174>:24: MatplotlibDeprecationWarning: Adding an axes using the same arguments as a previous axes currently reuses the earlier instance.  In a future version, a new instance will always be created and returned.  Meanwhile, this warning can be suppressed, and the future behavior ensured, by passing a unique label to each axes instance.\n",
      "  plt.subplot(3, 1, i)\n"
     ]
    },
    {
     "data": {
      "image/png": "[encoded data removed]",
      "text/plain": [
       "<Figure size 1080x1080 with 3 Axes>"
      ]
     },
     "metadata": {
      "needs_background": "light"
     },
     "output_type": "display_data"
    }
   ],
   "source": [
    "\n",
    "plt.subplot(3, 1, 1)\n",
    "plt.title('Training loss')\n",
    "plt.xlabel('Iteration')\n",
    "\n",
    "plt.subplot(3, 1, 2)\n",
    "plt.title('Training accuracy')\n",
    "plt.xlabel('Epoch')\n",
    "\n",
    "plt.subplot(3, 1, 3)\n",
    "plt.title('Validation accuracy')\n",
    "plt.xlabel('Epoch')\n",
    "\n",
    "for update_rule, solver in solvers.items():\n",
    "  plt.subplot(3, 1, 1)\n",
    "  plt.plot(solver.loss_history, 'o', label=update_rule)\n",
    "  \n",
    "  plt.subplot(3, 1, 2)\n",
    "  plt.plot(solver.train_acc_history, '--o', label=update_rule)\n",
    "\n",
    "  plt.subplot(3, 1, 3)\n",
    "  plt.plot(solver.val_acc_history, '--o', label=update_rule)\n",
    "  \n",
    "for i in [1, 2, 3]:\n",
    "  plt.subplot(3, 1, i)\n",
    "  plt.legend(loc='upper center', ncol=4)\n",
    "plt.gcf().set_size_inches(15, 15)\n",
    "plt.show()"
   ]
  },
  {
   "cell_type": "markdown",
   "metadata": {},
   "source": [
    "# RMSProp and Adam\n",
    "RMSProp [1] and Adam [2] are update rules that set per-parameter learning rates by using a running average of the second moments of gradients.\n",
    "\n",
    "In the file `cs231n/optim.py`, implement the RMSProp update rule in the `rmsprop` function and implement the Adam update rule in the `adam` function, and check your implementations using the tests below.\n",
    "\n",
    "[1] Tijmen Tieleman and Geoffrey Hinton. \"Lecture 6.5-rmsprop: Divide the gradient by a running average of its recent magnitude.\" COURSERA: Neural Networks for Machine Learning 4 (2012).\n",
    "\n",
    "[2] Diederik Kingma and Jimmy Ba, \"Adam: A Method for Stochastic Optimization\", ICLR 2015."
   ]
  },
  {
   "cell_type": "code",
   "execution_count": null,
   "metadata": {},
   "outputs": [],
   "source": [
    "# Test RMSProp implementation; you should see errors less than 1e-7\n",
    "from cs231n.optim import rmsprop\n",
    "\n",
    "N, D = 4, 5\n",
    "w = np.linspace(-0.4, 0.6, num=N*D).reshape(N, D)\n",
    "dw = np.linspace(-0.6, 0.4, num=N*D).reshape(N, D)\n",
    "cache = np.linspace(0.6, 0.9, num=N*D).reshape(N, D)\n",
    "\n",
    "config = {'learning_rate': 1e-2, 'cache': cache}\n",
    "next_w, _ = rmsprop(w, dw, config=config)\n",
    "\n",
    "expected_next_w = np.asarray([\n",
    "  [-0.39223849, -0.34037513, -0.28849239, -0.23659121, -0.18467247],\n",
    "  [-0.132737,   -0.08078555, -0.02881884,  0.02316247,  0.07515774],\n",
    "  [ 0.12716641,  0.17918792,  0.23122175,  0.28326742,  0.33532447],\n",
    "  [ 0.38739248,  0.43947102,  0.49155973,  0.54365823,  0.59576619]])\n",
    "expected_cache = np.asarray([\n",
    "  [ 0.5976,      0.6126277,   0.6277108,   0.64284931,  0.65804321],\n",
    "  [ 0.67329252,  0.68859723,  0.70395734,  0.71937285,  0.73484377],\n",
    "  [ 0.75037008,  0.7659518,   0.78158892,  0.79728144,  0.81302936],\n",
    "  [ 0.82883269,  0.84469141,  0.86060554,  0.87657507,  0.8926    ]])\n",
    "\n",
    "print ('next_w error: ', rel_error(expected_next_w, next_w))\n",
    "print ('cache error: ', rel_error(expected_cache, config['cache']))"
   ]
  },
  {
   "cell_type": "code",
   "execution_count": null,
   "metadata": {},
   "outputs": [],
   "source": [
    "# Test Adam implementation; you should see errors around 1e-7 or less\n",
    "from cs231n.optim import adam\n",
    "\n",
    "N, D = 4, 5\n",
    "w = np.linspace(-0.4, 0.6, num=N*D).reshape(N, D)\n",
    "dw = np.linspace(-0.6, 0.4, num=N*D).reshape(N, D)\n",
    "m = np.linspace(0.6, 0.9, num=N*D).reshape(N, D)\n",
    "v = np.linspace(0.7, 0.5, num=N*D).reshape(N, D)\n",
    "\n",
    "config = {'learning_rate': 1e-2, 'm': m, 'v': v, 't': 5}\n",
    "next_w, _ = adam(w, dw, config=config)\n",
    "\n",
    "expected_next_w = np.asarray([\n",
    "  [-0.40094747, -0.34836187, -0.29577703, -0.24319299, -0.19060977],\n",
    "  [-0.1380274,  -0.08544591, -0.03286534,  0.01971428,  0.0722929],\n",
    "  [ 0.1248705,   0.17744702,  0.23002243,  0.28259667,  0.33516969],\n",
    "  [ 0.38774145,  0.44031188,  0.49288093,  0.54544852,  0.59801459]])\n",
    "expected_v = np.asarray([\n",
    "  [ 0.69966,     0.68908382,  0.67851319,  0.66794809,  0.65738853,],\n",
    "  [ 0.64683452,  0.63628604,  0.6257431,   0.61520571,  0.60467385,],\n",
    "  [ 0.59414753,  0.58362676,  0.57311152,  0.56260183,  0.55209767,],\n",
    "  [ 0.54159906,  0.53110598,  0.52061845,  0.51013645,  0.49966,   ]])\n",
    "expected_m = np.asarray([\n",
    "  [ 0.48,        0.49947368,  0.51894737,  0.53842105,  0.55789474],\n",
    "  [ 0.57736842,  0.59684211,  0.61631579,  0.63578947,  0.65526316],\n",
    "  [ 0.67473684,  0.69421053,  0.71368421,  0.73315789,  0.75263158],\n",
    "  [ 0.77210526,  0.79157895,  0.81105263,  0.83052632,  0.85      ]])\n",
    "\n",
    "print ('next_w error: ', rel_error(expected_next_w, next_w))\n",
    "print ('v error: ', rel_error(expected_v, config['v']))\n",
    "print ('m error: ', rel_error(expected_m, config['m']))"
   ]
  },
  {
   "cell_type": "markdown",
   "metadata": {},
   "source": [
    "Once you have debugged your RMSProp and Adam implementations, run the following to train a pair of deep networks using these new update rules:"
   ]
  },
  {
   "cell_type": "code",
   "execution_count": 12,
   "metadata": {},
   "outputs": [],
   "source": [
    "#for some reason rmsprop is WAY better on this dataset"
   ]
  },
  {
   "cell_type": "code",
   "execution_count": 11,
   "metadata": {},
   "outputs": [
    {
     "name": "stdout",
     "output_type": "stream",
     "text": [
      "running with  adam\n",
      "(Iteration 1 / 200) loss: 2.416523\n",
      "(Epoch 0 / 5) train acc: 0.120000; val_acc: 0.101000\n",
      "(Iteration 11 / 200) loss: 2.190672\n",
      "(Iteration 21 / 200) loss: 2.319040\n",
      "(Iteration 31 / 200) loss: 2.316720\n",
      "(Epoch 1 / 5) train acc: 0.135000; val_acc: 0.137000\n",
      "(Iteration 41 / 200) loss: 2.219181\n",
      "(Iteration 51 / 200) loss: 2.223675\n",
      "(Iteration 61 / 200) loss: 2.246468\n",
      "(Iteration 71 / 200) loss: 2.181532\n",
      "(Epoch 2 / 5) train acc: 0.188000; val_acc: 0.145000\n",
      "(Iteration 81 / 200) loss: 2.118098\n",
      "(Iteration 91 / 200) loss: 2.055439\n",
      "(Iteration 101 / 200) loss: 2.262514\n",
      "(Iteration 111 / 200) loss: 2.193125\n",
      "(Epoch 3 / 5) train acc: 0.150000; val_acc: 0.132000\n",
      "(Iteration 121 / 200) loss: 2.188508\n",
      "(Iteration 131 / 200) loss: 2.275301\n",
      "(Iteration 141 / 200) loss: 2.320799\n",
      "(Iteration 151 / 200) loss: 2.210020\n",
      "(Epoch 4 / 5) train acc: 0.144000; val_acc: 0.110000\n",
      "(Iteration 161 / 200) loss: 2.274302\n",
      "(Iteration 171 / 200) loss: 2.210452\n",
      "(Iteration 181 / 200) loss: 2.238216\n",
      "(Iteration 191 / 200) loss: 2.252820\n",
      "(Epoch 5 / 5) train acc: 0.126000; val_acc: 0.120000\n",
      "running with  rmsprop\n",
      "(Iteration 1 / 200) loss: 2.569112\n",
      "(Epoch 0 / 5) train acc: 0.136000; val_acc: 0.149000\n",
      "(Iteration 11 / 200) loss: 2.108540\n",
      "(Iteration 21 / 200) loss: 1.971270\n",
      "(Iteration 31 / 200) loss: 1.938152\n",
      "(Epoch 1 / 5) train acc: 0.375000; val_acc: 0.299000\n",
      "(Iteration 41 / 200) loss: 1.829445\n",
      "(Iteration 51 / 200) loss: 1.830057\n",
      "(Iteration 61 / 200) loss: 1.621637\n",
      "(Iteration 71 / 200) loss: 1.653279\n",
      "(Epoch 2 / 5) train acc: 0.420000; val_acc: 0.333000\n",
      "(Iteration 81 / 200) loss: 1.810578\n",
      "(Iteration 91 / 200) loss: 1.596904\n",
      "(Iteration 101 / 200) loss: 1.727137\n",
      "(Iteration 111 / 200) loss: 1.635455\n",
      "(Epoch 3 / 5) train acc: 0.477000; val_acc: 0.351000\n",
      "(Iteration 121 / 200) loss: 1.565050\n",
      "(Iteration 131 / 200) loss: 1.654165\n",
      "(Iteration 141 / 200) loss: 1.414495\n",
      "(Iteration 151 / 200) loss: 1.620079\n",
      "(Epoch 4 / 5) train acc: 0.544000; val_acc: 0.360000\n",
      "(Iteration 161 / 200) loss: 1.405242\n",
      "(Iteration 171 / 200) loss: 1.522336\n",
      "(Iteration 181 / 200) loss: 1.567200\n",
      "(Iteration 191 / 200) loss: 1.295918\n",
      "(Epoch 5 / 5) train acc: 0.527000; val_acc: 0.337000\n"
     ]
    },
    {
     "name": "stderr",
     "output_type": "stream",
     "text": [
      "<ipython-input-11-3ed7cb34feb6>:30: MatplotlibDeprecationWarning: Adding an axes using the same arguments as a previous axes currently reuses the earlier instance.  In a future version, a new instance will always be created and returned.  Meanwhile, this warning can be suppressed, and the future behavior ensured, by passing a unique label to each axes instance.\n",
      "  plt.subplot(3, 1, 1)\n",
      "<ipython-input-11-3ed7cb34feb6>:33: MatplotlibDeprecationWarning: Adding an axes using the same arguments as a previous axes currently reuses the earlier instance.  In a future version, a new instance will always be created and returned.  Meanwhile, this warning can be suppressed, and the future behavior ensured, by passing a unique label to each axes instance.\n",
      "  plt.subplot(3, 1, 2)\n",
      "<ipython-input-11-3ed7cb34feb6>:36: MatplotlibDeprecationWarning: Adding an axes using the same arguments as a previous axes currently reuses the earlier instance.  In a future version, a new instance will always be created and returned.  Meanwhile, this warning can be suppressed, and the future behavior ensured, by passing a unique label to each axes instance.\n",
      "  plt.subplot(3, 1, 3)\n",
      "<ipython-input-11-3ed7cb34feb6>:40: MatplotlibDeprecationWarning: Adding an axes using the same arguments as a previous axes currently reuses the earlier instance.  In a future version, a new instance will always be created and returned.  Meanwhile, this warning can be suppressed, and the future behavior ensured, by passing a unique label to each axes instance.\n",
      "  plt.subplot(3, 1, i)\n"
     ]
    },
    {
     "data": {
      "image/png": "[encoded data removed]",
      "text/plain": [
       "<Figure size 1080x1080 with 3 Axes>"
      ]
     },
     "metadata": {
      "needs_background": "light"
     },
     "output_type": "display_data"
    }
   ],
   "source": [
    "learning_rates = {'rmsprop': 1e-4, 'adam': 1e-3}\n",
    "for update_rule in ['adam', 'rmsprop']:\n",
    "  print ('running with ', update_rule)\n",
    "  model = FullyConnectedNet([100, 100, 100, 100, 100], weight_scale=5e-2)\n",
    "\n",
    "  solver = Solver(model, small_data,\n",
    "                  num_epochs=5, batch_size=100,\n",
    "                  update_rule=update_rule,\n",
    "                  optim_config={\n",
    "                    'learning_rate': learning_rates[update_rule]\n",
    "                  },\n",
    "                  verbose=True)\n",
    "  solvers[update_rule] = solver\n",
    "  solver.train()\n",
    "  print\n",
    "\n",
    "plt.subplot(3, 1, 1)\n",
    "plt.title('Training loss')\n",
    "plt.xlabel('Iteration')\n",
    "\n",
    "plt.subplot(3, 1, 2)\n",
    "plt.title('Training accuracy')\n",
    "plt.xlabel('Epoch')\n",
    "\n",
    "plt.subplot(3, 1, 3)\n",
    "plt.title('Validation accuracy')\n",
    "plt.xlabel('Epoch')\n",
    "\n",
    "for update_rule, solver in solvers.items():\n",
    "  plt.subplot(3, 1, 1)\n",
    "  plt.plot(solver.loss_history, 'o', label=update_rule)\n",
    "  \n",
    "  plt.subplot(3, 1, 2)\n",
    "  plt.plot(solver.train_acc_history, '-o', label=update_rule)\n",
    "\n",
    "  plt.subplot(3, 1, 3)\n",
    "  plt.plot(solver.val_acc_history, '-o', label=update_rule)\n",
    "  \n",
    "for i in [1, 2, 3]:\n",
    "  plt.subplot(3, 1, i)\n",
    "  plt.legend(loc='upper center', ncol=4)\n",
    "plt.gcf().set_size_inches(15, 15)\n",
    "plt.show()"
   ]
  },
  {
   "cell_type": "markdown",
   "metadata": {},
   "source": [
    "# Train a good model!\n",
    "Train the best fully-connected model that you can on CIFAR-10, storing your best model in the `best_model` variable. We require you to get at least 50% accuracy on the validation set using a fully-connected net.\n",
    "\n",
    "If you are careful it should be possible to get accuracies above 55%, but we don't require it for this part and won't assign extra credit for doing so. Later in the assignment we will ask you to train the best convolutional network that you can on CIFAR-10, and we would prefer that you spend your effort working on convolutional nets rather than fully-connected nets.\n",
    "\n",
    "You might find it useful to complete the `BatchNormalization.ipynb` and `Dropout.ipynb` notebooks before completing this part, since those techniques can help you train powerful models."
   ]
  },
  {
   "cell_type": "code",
   "execution_count": 6,
   "metadata": {},
   "outputs": [],
   "source": [
    "num_train = 2000\n",
    "small_data = {\n",
    "  'X_train': data['X_train'][:num_train],\n",
    "  'y_train': data['y_train'][:num_train],\n",
    "  'X_val': data['X_val'],\n",
    "  'y_val': data['y_val'],\n",
    "}\n"
   ]
  },
  {
   "cell_type": "code",
   "execution_count": 32,
   "metadata": {},
   "outputs": [
    {
     "name": "stdout",
     "output_type": "stream",
     "text": [
      "Current ws 100.0 lr 0.000630957344480193\n",
      "Train set accuracy:  0.9935\n",
      "Val set accuracy:  0.366\n"
     ]
    }
   ],
   "source": [
    "hidden_layers = [100, 100, 100, 100, 100]\n",
    "num_epochs = 35\n",
    "batch_size = 128\n",
    "update_rule = 'adam'\n",
    "bn = True\n",
    "learning_rates = np.logspace(-4, 0, num = 6)\n",
    "learning_rates = [0.000630957344480193]\n",
    "\n",
    "#regs = np.logspace(-4, 1, size = 3)\n",
    "for lr in learning_rates:\n",
    "    print(\"Current ws {} lr {}\".format(ws, lr))\n",
    "    model = FullyConnectedNet(hidden_layers, use_batchnorm=bn, weight_scale=.1, dropout = 0, reg = 1e-6)            \n",
    "    solver = Solver(model, small_data,\n",
    "          num_epochs=num_epochs, batch_size=batch_size,\n",
    "          update_rule=update_rule,\n",
    "          optim_config={\n",
    "            'learning_rate': lr,\n",
    "          },\n",
    "         verbose = False)\n",
    "    solver.train()\n",
    "\n",
    "    y_train_pred = np.argmax(model.loss(small_data['X_train']), axis=1)\n",
    "    y_val_pred = np.argmax(model.loss(small_data['X_val']), axis=1)\n",
    "\n",
    "            #print out some info\n",
    "    print ('Train set accuracy: ', np.mean(y_train_pred == small_data['y_train']))\n",
    "    print ('Val set accuracy: ', np.mean(y_val_pred == small_data['y_val']))\n"
   ]
  },
  {
   "cell_type": "code",
   "execution_count": 33,
   "metadata": {},
   "outputs": [],
   "source": [
    "#we have overfit the data, so it seems that we can proceed"
   ]
  },
  {
   "cell_type": "code",
   "execution_count": 34,
   "metadata": {},
   "outputs": [],
   "source": [
    "def random_logspace(start, end, num, base =10):\n",
    "    return base**np.random.uniform(low = start, high = end, size = num)\n"
   ]
  },
  {
   "cell_type": "code",
   "execution_count": 46,
   "metadata": {},
   "outputs": [
    {
     "name": "stdout",
     "output_type": "stream",
     "text": [
      "train acc: 0.35, val acc: 0.34\n"
     ]
    }
   ],
   "source": [
    "print('train acc: {:.2f}, val acc: {:.2f}'.format(np.mean(y_train_pred == data['y_train']), np.mean(y_val_pred == data['y_val'])))"
   ]
  },
  {
   "cell_type": "code",
   "execution_count": 55,
   "metadata": {
    "scrolled": true
   },
   "outputs": [
    {
     "name": "stdout",
     "output_type": "stream",
     "text": [
      "Training...\n",
      "num epochs 5\n",
      "batch size 256\n",
      "update rule adam\n",
      "using batchnorm\n",
      "dropout is/are [0.3, 0.5, 0.8]\n",
      "hidden layers [100, 100, 100, 100]\n",
      "current : lr 0.0007431876528594453, rs 0.010293441431321944, ws 0.010346684470491061 dp 0.3\n",
      "train acc: 0.46, val acc: 0.46\n",
      "current : lr 0.0007431876528594453, rs 0.010293441431321944, ws 0.010346684470491061 dp 0.5\n",
      "train acc: 0.39, val acc: 0.39\n",
      "current : lr 0.0007431876528594453, rs 0.010293441431321944, ws 0.010346684470491061 dp 0.8\n",
      "train acc: 0.20, val acc: 0.21\n",
      "current : lr 0.0007431876528594453, rs 0.010293441431321944, ws 0.011497349966342874 dp 0.3\n",
      "train acc: 0.46, val acc: 0.46\n",
      "current : lr 0.0007431876528594453, rs 0.010293441431321944, ws 0.011497349966342874 dp 0.5\n",
      "train acc: 0.40, val acc: 0.41\n",
      "current : lr 0.0007431876528594453, rs 0.010293441431321944, ws 0.011497349966342874 dp 0.8\n",
      "train acc: 0.20, val acc: 0.22\n",
      "current : lr 0.0007431876528594453, rs 0.006589473299100923, ws 0.010346684470491061 dp 0.3\n",
      "train acc: 0.43, val acc: 0.41\n",
      "current : lr 0.0007431876528594453, rs 0.006589473299100923, ws 0.010346684470491061 dp 0.5\n",
      "train acc: 0.41, val acc: 0.41\n",
      "current : lr 0.0007431876528594453, rs 0.006589473299100923, ws 0.010346684470491061 dp 0.8\n",
      "train acc: 0.22, val acc: 0.24\n",
      "current : lr 0.0007431876528594453, rs 0.006589473299100923, ws 0.011497349966342874 dp 0.3\n",
      "train acc: 0.47, val acc: 0.46\n",
      "current : lr 0.0007431876528594453, rs 0.006589473299100923, ws 0.011497349966342874 dp 0.5\n",
      "train acc: 0.42, val acc: 0.44\n",
      "current : lr 0.0007431876528594453, rs 0.006589473299100923, ws 0.011497349966342874 dp 0.8\n",
      "train acc: 0.22, val acc: 0.25\n",
      "current : lr 0.0003711276040535459, rs 0.010293441431321944, ws 0.010346684470491061 dp 0.3\n",
      "train acc: 0.46, val acc: 0.48\n",
      "current : lr 0.0003711276040535459, rs 0.010293441431321944, ws 0.010346684470491061 dp 0.5\n",
      "train acc: 0.42, val acc: 0.42\n",
      "current : lr 0.0003711276040535459, rs 0.010293441431321944, ws 0.010346684470491061 dp 0.8\n",
      "train acc: 0.23, val acc: 0.24\n",
      "current : lr 0.0003711276040535459, rs 0.010293441431321944, ws 0.011497349966342874 dp 0.3\n",
      "train acc: 0.48, val acc: 0.50\n",
      "current : lr 0.0003711276040535459, rs 0.010293441431321944, ws 0.011497349966342874 dp 0.5\n",
      "train acc: 0.42, val acc: 0.42\n",
      "current : lr 0.0003711276040535459, rs 0.010293441431321944, ws 0.011497349966342874 dp 0.8\n",
      "train acc: 0.23, val acc: 0.24\n",
      "current : lr 0.0003711276040535459, rs 0.006589473299100923, ws 0.010346684470491061 dp 0.3\n",
      "train acc: 0.50, val acc: 0.48\n",
      "current : lr 0.0003711276040535459, rs 0.006589473299100923, ws 0.010346684470491061 dp 0.5\n",
      "train acc: 0.43, val acc: 0.44\n",
      "current : lr 0.0003711276040535459, rs 0.006589473299100923, ws 0.010346684470491061 dp 0.8\n",
      "train acc: 0.23, val acc: 0.24\n",
      "current : lr 0.0003711276040535459, rs 0.006589473299100923, ws 0.011497349966342874 dp 0.3\n",
      "train acc: 0.49, val acc: 0.49\n",
      "current : lr 0.0003711276040535459, rs 0.006589473299100923, ws 0.011497349966342874 dp 0.5\n",
      "train acc: 0.42, val acc: 0.42\n",
      "current : lr 0.0003711276040535459, rs 0.006589473299100923, ws 0.011497349966342874 dp 0.8\n",
      "train acc: 0.22, val acc: 0.24\n",
      "current : lr 0.00028698446662172856, rs 0.010293441431321944, ws 0.010346684470491061 dp 0.3\n",
      "train acc: 0.49, val acc: 0.48\n",
      "current : lr 0.00028698446662172856, rs 0.010293441431321944, ws 0.010346684470491061 dp 0.5\n",
      "train acc: 0.40, val acc: 0.40\n",
      "current : lr 0.00028698446662172856, rs 0.010293441431321944, ws 0.010346684470491061 dp 0.8\n",
      "train acc: 0.19, val acc: 0.21\n",
      "current : lr 0.00028698446662172856, rs 0.010293441431321944, ws 0.011497349966342874 dp 0.3\n",
      "train acc: 0.48, val acc: 0.47\n",
      "current : lr 0.00028698446662172856, rs 0.010293441431321944, ws 0.011497349966342874 dp 0.5\n",
      "train acc: 0.42, val acc: 0.41\n",
      "current : lr 0.00028698446662172856, rs 0.010293441431321944, ws 0.011497349966342874 dp 0.8\n",
      "train acc: 0.23, val acc: 0.23\n",
      "current : lr 0.00028698446662172856, rs 0.006589473299100923, ws 0.010346684470491061 dp 0.3\n",
      "train acc: 0.50, val acc: 0.49\n",
      "current : lr 0.00028698446662172856, rs 0.006589473299100923, ws 0.010346684470491061 dp 0.5\n",
      "train acc: 0.42, val acc: 0.42\n",
      "current : lr 0.00028698446662172856, rs 0.006589473299100923, ws 0.010346684470491061 dp 0.8\n",
      "train acc: 0.21, val acc: 0.23\n",
      "current : lr 0.00028698446662172856, rs 0.006589473299100923, ws 0.011497349966342874 dp 0.3\n",
      "train acc: 0.50, val acc: 0.49\n",
      "current : lr 0.00028698446662172856, rs 0.006589473299100923, ws 0.011497349966342874 dp 0.5\n",
      "train acc: 0.43, val acc: 0.44\n",
      "current : lr 0.00028698446662172856, rs 0.006589473299100923, ws 0.011497349966342874 dp 0.8\n",
      "train acc: 0.23, val acc: 0.25\n",
      "current : lr 5.034335742716028e-05, rs 0.010293441431321944, ws 0.010346684470491061 dp 0.3\n",
      "train acc: 0.45, val acc: 0.45\n",
      "current : lr 5.034335742716028e-05, rs 0.010293441431321944, ws 0.010346684470491061 dp 0.5\n",
      "train acc: 0.35, val acc: 0.35\n",
      "current : lr 5.034335742716028e-05, rs 0.010293441431321944, ws 0.010346684470491061 dp 0.8\n",
      "train acc: 0.22, val acc: 0.22\n",
      "current : lr 5.034335742716028e-05, rs 0.010293441431321944, ws 0.011497349966342874 dp 0.3\n",
      "train acc: 0.45, val acc: 0.44\n",
      "current : lr 5.034335742716028e-05, rs 0.010293441431321944, ws 0.011497349966342874 dp 0.5\n",
      "train acc: 0.35, val acc: 0.36\n",
      "current : lr 5.034335742716028e-05, rs 0.010293441431321944, ws 0.011497349966342874 dp 0.8\n",
      "train acc: 0.21, val acc: 0.23\n",
      "current : lr 5.034335742716028e-05, rs 0.006589473299100923, ws 0.010346684470491061 dp 0.3\n",
      "train acc: 0.45, val acc: 0.45\n",
      "current : lr 5.034335742716028e-05, rs 0.006589473299100923, ws 0.010346684470491061 dp 0.5\n",
      "train acc: 0.33, val acc: 0.33\n",
      "current : lr 5.034335742716028e-05, rs 0.006589473299100923, ws 0.010346684470491061 dp 0.8\n",
      "train acc: 0.21, val acc: 0.21\n",
      "current : lr 5.034335742716028e-05, rs 0.006589473299100923, ws 0.011497349966342874 dp 0.3\n",
      "train acc: 0.43, val acc: 0.43\n",
      "current : lr 5.034335742716028e-05, rs 0.006589473299100923, ws 0.011497349966342874 dp 0.5\n",
      "train acc: 0.35, val acc: 0.34\n",
      "current : lr 5.034335742716028e-05, rs 0.006589473299100923, ws 0.011497349966342874 dp 0.8\n",
      "train acc: 0.20, val acc: 0.20\n"
     ]
    }
   ],
   "source": [
    "best_model = None\n",
    "best_val = 0\n",
    "################################################################################\n",
    "# TODO: Train the best FullyConnectedNet that you can on CIFAR-10. You might   #\n",
    "# batch normalization and dropout useful. Store your best model in the         #\n",
    "# best_model variable.                                                         #\n",
    "################################################################################\n",
    "#learning_rates = np.logspace(-5, 0, num = 12)\n",
    "learning_rates = random_logspace(-4.5, -3, num = 4)\n",
    "#regularization_rates = np.logspace(-5, 2, num = 6)\n",
    "regularization_rates = random_logspace(-2.3, -1.8, num = 2)\n",
    "dropout = [.2, .5, .8] #optional\n",
    "#weight_scales = np.logspace(-5, -1, num = 4)\n",
    "weight_scales = random_logspace(-2.3, -1.8, num = 2)\n",
    "\n",
    "models = []\n",
    "solvers = []\n",
    "\n",
    "num_epochs = 5\n",
    "batch_size = 128\n",
    "update_rule = 'adam' #works better?\n",
    "dropouts = [.5] #.5 works best\n",
    "bn = True\n",
    "\n",
    "print(\"Training...\")\n",
    "print(\"num epochs {}\".format(num_epochs))\n",
    "print(\"batch size {}\".format(batch_size))\n",
    "print(\"update rule {}\".format(update_rule))\n",
    "if bn:\n",
    "    print(\"using batchnorm\")\n",
    "if dp is not None:\n",
    "    print(\"dropout is/are {}\".format(dropouts))\n",
    "    \n",
    "hidden_layers = [100, 100, 100, 100]\n",
    "print(\"hidden layers {}\".format(hidden_layers))\n",
    "\n",
    "results = {}\n",
    "\n",
    "for lr in learning_rates:\n",
    "    for rs in regularization_rates:\n",
    "        for ws in weight_scales:\n",
    "            for dp in dropouts:\n",
    "                print('current : lr {}, rs {}, ws {} dp {}'.format(lr, rs, ws, dp))\n",
    "                model = FullyConnectedNet(hidden_layers, use_batchnorm=bn, weight_scale=ws, dropout=dp, reg=rs)            \n",
    "                solver = Solver(model, data,\n",
    "                      num_epochs=num_epochs, batch_size=batch_size,\n",
    "                      update_rule=update_rule,\n",
    "                      optim_config={\n",
    "                        'learning_rate': lr,\n",
    "                      },\n",
    "                     verbose = False)\n",
    "                solver.train()\n",
    "\n",
    "                models.append(model)\n",
    "                solvers.append(solver)\n",
    "                y_train_pred = np.argmax(model.loss(data['X_train']), axis=1)\n",
    "                y_val_pred = np.argmax(model.loss(data['X_val']), axis=1)\n",
    "                results[(lr, rs, ws)] = (y_train_pred, y_val_pred)\n",
    "                val_acc = np.mean(y_val_pred == data['y_val'])\n",
    "                train_acc = np.mean(y_train_pred == data['y_train'])\n",
    "                if val_acc > best_val:\n",
    "                    best_model = model\n",
    "                    best_val = val_acc\n",
    "                #print out some info\n",
    "            \n",
    "                print('train acc: {:.2f}, val acc: {:.2f}'.format(train_acc, val_acc))\n",
    "            \n",
    "################################################################################\n",
    "#                              END OF YOUR CODE                                #\n",
    "################################################################################"
   ]
  },
  {
   "cell_type": "code",
   "execution_count": 56,
   "metadata": {},
   "outputs": [
    {
     "data": {
      "text/plain": [
       "0.496"
      ]
     },
     "execution_count": 56,
     "metadata": {},
     "output_type": "execute_result"
    }
   ],
   "source": [
    "best_val"
   ]
  },
  {
   "cell_type": "markdown",
   "metadata": {},
   "source": [
    "# Test you model\n",
    "Run your best model on the validation and test sets. You should achieve above 50% accuracy on the validation set."
   ]
  },
  {
   "cell_type": "code",
   "execution_count": null,
   "metadata": {},
   "outputs": [],
   "source": [
    "\n",
    "y_test_pred = np.argmax(best_model.loss(data['X_test']), axis=1)\n",
    "y_val_pred = np.argmax(best_model.loss(data['X_val']), axis=1)\n",
    "print ('Validation set accuracy: ', (y_val_pred == data['y_val']).mean())\n",
    "print ('Test set accuracy: ', (y_test_pred == data['y_test']).mean())"
   ]
  },
  {
   "cell_type": "code",
   "execution_count": 34,
   "metadata": {},
   "outputs": [],
   "source": [
    "def show_data(solver):\n",
    "    #some boilerplate\n",
    "    \n",
    "    plt.subplot(3, 1, 1)\n",
    "    plt.plot(solver.loss_history, 'o')\n",
    "    plt.title('Training loss')\n",
    "    plt.xlabel('Iteration')\n",
    "\n",
    "    plt.subplot(3, 1, 2)\n",
    "    plt.plot(solver.train_acc_history, '-o')\n",
    "    plt.title('Training accuracy')\n",
    "    plt.xlabel('Epoch')\n",
    "\n",
    "    plt.subplot(3, 1, 3)\n",
    "    plt.plot(solver.val_acc_history, '-o')\n",
    "    plt.title('Validation accuracy')\n",
    "    plt.xlabel('Epoch')\n",
    "\n",
    "    plt.show()"
   ]
  },
  {
   "cell_type": "code",
   "execution_count": null,
   "metadata": {},
   "outputs": [],
   "source": []
  }
 ],
 "metadata": {
  "kernelspec": {
   "display_name": "Python 3",
   "language": "python",
   "name": "python3"
  },
  "language_info": {
   "codemirror_mode": {
    "name": "ipython",
    "version": 3
   },
   "file_extension": ".py",
   "mimetype": "text/x-python",
   "name": "python",
   "nbconvert_exporter": "python",
   "pygments_lexer": "ipython3",
   "version": "3.8.5"
  }
 },
 "nbformat": 4,
 "nbformat_minor": 1
}
